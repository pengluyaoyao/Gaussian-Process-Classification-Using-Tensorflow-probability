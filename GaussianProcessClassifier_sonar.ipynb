{
 "cells": [
  {
   "cell_type": "markdown",
   "metadata": {},
   "source": [
    "## Gaussian Process Classifier Using Tensorflow and Tensorflow-probability"
   ]
  },
  {
   "cell_type": "code",
   "execution_count": 6,
   "metadata": {},
   "outputs": [],
   "source": [
    "#import tensorflow.compat.v1 as tf\n",
    "#tf.compat.v1.enable_eager_execution()\n",
    "import tensorflow.compat.v2 as tf\n",
    "import tensorflow_probability as tfp\n",
    "from sklearn.preprocessing import LabelEncoder\n",
    "from sklearn.model_selection import train_test_split\n",
    "#tf.disable_v2_behavior()\n",
    "import pandas as pd\n",
    "import numpy as np\n",
    "import os\n",
    "import itertools\n",
    "import sys\n",
    "from sklearn.metrics import f1_score\n",
    "import time\n",
    "\n",
    "tfb = tfp.bijectors\n",
    "tfd = tfp.distributions\n",
    "tfk = tfp.math.psd_kernels\n",
    "\n",
    "#tf.enable_v2_behavior()\n",
    "#tf.executing_eagerly()"
   ]
  },
  {
   "cell_type": "code",
   "execution_count": 7,
   "metadata": {
    "collapsed": true
   },
   "outputs": [],
   "source": [
    "data = pd.read_csv('sonar.csv', header=None)\n",
    "data = data.values\n",
    "X = data[:,0:60].astype(float)\n",
    "Y = data[:,60]\n",
    "\n",
    "encoder = LabelEncoder()\n",
    "encoder.fit(Y)\n",
    "encoded_Y = encoder.transform(Y)\n",
    "\n",
    "X_train, X_test, y_train, y_test = train_test_split(X, encoded_Y, test_size=0.2, random_state=42)"
   ]
  },
  {
   "cell_type": "code",
   "execution_count": 8,
   "metadata": {
    "collapsed": true
   },
   "outputs": [],
   "source": [
    "# Defining kernel: RBF kernel with same length scale\n",
    "\n",
    "constrain_positive = tfb.Shift(np.finfo(np.float64).tiny)(tfb.Softplus())\n",
    "\n",
    "amplitude = tfp.util.TransformedVariable(\n",
    "    initial_value=1.,\n",
    "    bijector=constrain_positive,\n",
    "    name='amplitude',\n",
    "    dtype=np.float64)\n",
    "\n",
    "length_scale = tfp.util.TransformedVariable(\n",
    "    initial_value=1.,\n",
    "    bijector=constrain_positive,\n",
    "    name='length_scale',\n",
    "    dtype=np.float64)\n",
    "\n",
    "kernel = tfk.ExponentiatedQuadratic(amplitude, length_scale)"
   ]
  },
  {
   "cell_type": "code",
   "execution_count": 9,
   "metadata": {},
   "outputs": [],
   "source": [
    "from TFBinaryGPClassifier import TFBinaryGPClassifier\n",
    "\n",
    "start = time.time()\n",
    "\n",
    "BGPC = TFBinaryGPClassifier(kernel=kernel).fit(X=X_train, y=y_train)\n",
    "probs_preds = BGPC.predict_proba(X=X_test)\n",
    "labels_preds = BGPC.predict(X=X_test)\n",
    "\n",
    "end =time.time()"
   ]
  },
  {
   "cell_type": "code",
   "execution_count": 10,
   "metadata": {},
   "outputs": [
    {
     "name": "stdout",
     "output_type": "stream",
     "text": [
      "Accuracy and F1 accuracy are 0.857143 0.823529 in 2.271332 seconds\n",
      "Optmized amplitude and length scale are 2.874847, 0.775601\n"
     ]
    }
   ],
   "source": [
    "print('Accuracy and F1 accuracy are %f %f' %(np.mean(labels_preds==y_test),f1_score(labels_preds, y_test)), 'in %f seconds' %(end-start))\n",
    "print('Optmized amplitude and length scale are %f, %f' %(BGPC.kernel.amplitude, BGPC.kernel.length_scale))"
   ]
  },
  {
   "cell_type": "code",
   "execution_count": null,
   "metadata": {
    "collapsed": true
   },
   "outputs": [],
   "source": []
  },
  {
   "cell_type": "code",
   "execution_count": null,
   "metadata": {
    "collapsed": true
   },
   "outputs": [],
   "source": []
  }
 ],
 "metadata": {
  "kernelspec": {
   "display_name": "JupyterPy2",
   "language": "python",
   "name": "ipykernel_py2"
  },
  "language_info": {
   "codemirror_mode": {
    "name": "ipython",
    "version": 3
   },
   "file_extension": ".py",
   "mimetype": "text/x-python",
   "name": "python",
   "nbconvert_exporter": "python",
   "pygments_lexer": "ipython3",
   "version": "3.8.3"
  }
 },
 "nbformat": 4,
 "nbformat_minor": 2
}
